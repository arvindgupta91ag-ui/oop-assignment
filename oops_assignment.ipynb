{
  "nbformat": 4,
  "nbformat_minor": 0,
  "metadata": {
    "colab": {
      "provenance": []
    },
    "kernelspec": {
      "name": "python3",
      "display_name": "Python 3"
    },
    "language_info": {
      "name": "python"
    }
  },
  "cells": [
    {
      "cell_type": "code",
      "execution_count": null,
      "metadata": {
        "id": "TMC73HLPOu-d"
      },
      "outputs": [],
      "source": [
        "# What is Object-Oriented Programming (OOP).\n",
        "opp is a programming paradigm based on the concept of \"objects\", which can contain data, in the form of fields (often known as attributes or properties), and code, in the form of procedures (often known as methods).\n",
        "\n",
        "Class: A blueprint for creating objects. It defines attributes and behaviors.\n",
        "\n",
        "Object: An instance of a class. It holds data and can perform actions.\n",
        "\n",
        "Encapsulation: Bundling data and methods together, restricting direct access to some components.\n",
        "\n",
        "Inheritance: A way to create new classes from existing ones, promoting code reuse.\n",
        "\n",
        "Polymorphism: The ability to use a single interface for different data types or classes.\n",
        "\n",
        "Abstraction: Hiding complex implementation details and showing only the essential features.\n"
      ]
    },
    {
      "cell_type": "code",
      "source": [
        "# What is a class in OOP.\n",
        "Class: A blueprint for creating objects. It defines attributes and behaviors.\n"
      ],
      "metadata": {
        "id": "QgmHIeRUQ6j-"
      },
      "execution_count": null,
      "outputs": []
    },
    {
      "cell_type": "code",
      "source": [
        "# What is an object in OOP.\n",
        "Object: An instance of a class. It holds data and can perform actions."
      ],
      "metadata": {
        "id": "eQiar0m4Remb"
      },
      "execution_count": null,
      "outputs": []
    },
    {
      "cell_type": "code",
      "source": [
        "# What is the difference between abstraction and encapsulation\n",
        "Abstraction: Hiding complex implementation details and showing only the essential features.\n",
        "Encapsulation: Bundling data and methods together, restricting direct access to some components."
      ],
      "metadata": {
        "id": "u-iDU-m4Rkur"
      },
      "execution_count": null,
      "outputs": []
    },
    {
      "cell_type": "code",
      "source": [
        "# What are dunder methods in Python.\n",
        "Dunder methods (short for “double underscore” methods) are special methods in Python that begin and end with double underscores, like __init__, __str__, __len__, etc.\n",
        "\n",
        "They are also called magic methods because they enable built-in behavior and operator overloading."
      ],
      "metadata": {
        "id": "cB5YFglaRrBq"
      },
      "execution_count": null,
      "outputs": []
    },
    {
      "cell_type": "code",
      "source": [
        "#Explain the concept of inheritance in OOP.\n",
        "Inheritance is a fundamental concept in OOP that allows one class (called the child or subclass) to inherit properties and behaviors (methods and attributes) from another class (called the parent or superclass).\n",
        "\n",
        "It promotes code reuse, modularity, and hierarchical relationships between classes. Avoids code duplication\n",
        "\n",
        "Makes code easier to maintain and extend\n",
        "\n",
        "Enables polymorphism (same method name, different behavior)"
      ],
      "metadata": {
        "id": "7MTAc5yKTb_A"
      },
      "execution_count": null,
      "outputs": []
    },
    {
      "cell_type": "code",
      "source": [
        "# What is polymorphism in OOP.\n",
        "Polymorphism means “many forms.” In OOP, it refers to the ability of different classes to respond to the same method call in different ways.\n",
        "\n",
        "It allows a single interface (like a method name) to work with different types of objects, making code more flexible and extensible.\n",
        "\n",
        "🔑 Types of Polymorphism:\n",
        "Method Overriding: A child class provides its own version of a method inherited from the parent class.\n",
        "\n",
        "Method Overloading (not directly supported in Python): Defining multiple methods with the same name but different parameters.\n",
        "\n",
        "Operator Overloading: Using dunder methods to redefine how operators like +, ==, etc., behave for custom objects."
      ],
      "metadata": {
        "id": "Odn9odVfS71r"
      },
      "execution_count": null,
      "outputs": []
    },
    {
      "cell_type": "code",
      "source": [
        "# How is encapsulation achieved in Python.\n",
        "Encapsulation means bundling data and methods together and restricting direct access to some components of an object. It helps maintain control over how data is modified and accessed.\n",
        "How Encapsulation is Achieved in Python:\n",
        "1. Using Access Modifiers:\n",
        "Python uses naming conventions to indicate access levels:\n",
        "\n",
        "Modifier\tSyntax\tMeaning\n",
        "Public\tself.name\tAccessible from anywhere\n",
        "Protected\tself._name\tMeant for internal use (not enforced)\n",
        "How Encapsulation is Achieved in Python:\n",
        "1. Using Access Modifiers:\n",
        "Python uses naming conventions to indicate access levels:\n",
        "\n",
        "Modifier\tSyntax\tMeaning\n",
        "Public\tself.name\tAccessible from anywhere\n",
        "Protected\tself._name\tMeant for internal use (not enforced)\n",
        "Why Use Encapsulation?\n",
        " Prevents accidental modification of data\n",
        "\n",
        " Adds security by hiding internal state\n",
        "\n",
        " Makes code easier to maintain and debug"
      ],
      "metadata": {
        "id": "lPcrMwblTnUv"
      },
      "execution_count": null,
      "outputs": []
    },
    {
      "cell_type": "code",
      "source": [
        "# What is a constructor in Python.\n",
        "\n",
        "A constructor is a special method used to initialize objects when a class is instantiated. In Python, the constructor method is called __init__().\n",
        "\n",
        "It sets up the initial state of the object by assigning values to its attributes.\n",
        "class Person:\n",
        "    def __init__(self, name, age):  # Constructor\n",
        "        self.name = name\n",
        "        self.age = age\n",
        "\n",
        "p = Person(\"Arvind\", 30)\n",
        "print(p.name)  # Output: Arvind\n",
        "print(p.age)   # Output: 30\n"
      ],
      "metadata": {
        "id": "Bt_XEDimUk54"
      },
      "execution_count": null,
      "outputs": []
    },
    {
      "cell_type": "code",
      "source": [
        "# What are class and static methods in Python.\n",
        "Python provides two special types of methods that are not tied to individual object instances:\n",
        "\n",
        " Class Methods (@classmethod)\n",
        "A class method works with the class itself, not with object instances.\n",
        "\n",
        "It takes cls as the first parameter (instead of self).\n",
        "\n",
        "Used when you need to access or modify class-level data.\n",
        "class Dog:\n",
        "    species = \"Canine\"\n",
        "\n",
        "    @classmethod\n",
        "    def get_species(cls):\n",
        "        return cls.species\n",
        "\n",
        "print(Dog.get_species())  # Output: Canine\n",
        "\n",
        "Static Methods (@staticmethod)\n",
        "A static method doesn’t take self or cls as a parameter.\n",
        "\n",
        "It behaves like a regular function but lives inside the class.\n",
        "\n",
        "Used when the method logic is related to the class but doesn’t need access to class or instance data.\n",
        "class Math:\n",
        "    @staticmethod\n",
        "    def add(x, y):\n",
        "        return x + y\n",
        "\n",
        "print(Math.add(5, 3))  # Output: 8\n",
        "\n"
      ],
      "metadata": {
        "id": "cRtbl-FdVMwH"
      },
      "execution_count": null,
      "outputs": []
    },
    {
      "cell_type": "code",
      "source": [
        "# What is method overloading in Python.\n",
        "Method overloading means defining multiple methods with the same name but different parameters. It’s a common feature in many object-oriented languages like Java or C++, but Python does not support method overloading directly.\n",
        "In Python, if you define multiple methods with the same name, the last definition overrides the previous ones.\n",
        "class Demo:\n",
        "    def greet(self):\n",
        "        print(\"Hello!\")\n",
        "\n",
        "    def greet(self, name):\n",
        "        print(f\"Hello, {name}!\")\n",
        "\n",
        "obj = Demo()\n",
        "obj.greet(\"Arvind\")  # Works\n",
        "obj.greet()          # Error: missing 1 required argument\n"
      ],
      "metadata": {
        "id": "n8mRvz_SWA7b"
      },
      "execution_count": null,
      "outputs": []
    },
    {
      "cell_type": "code",
      "source": [
        " What is method overriding in OOP.\n",
        "Method overriding occurs when a child class provides its own implementation of a method that is already defined in its parent class.\n",
        "\n",
        "It allows the child class to customize or replace the behavior inherited from the parent class.\n",
        "class Animal:\n",
        "    def speak(self):\n",
        "        print(\"This animal makes a sound.\")\n",
        "\n",
        "class Dog(Animal):\n",
        "    def speak(self):\n",
        "        print(\"Bark!\")\n",
        "\n",
        "class Cat(Animal):\n",
        "    def speak(self):\n",
        "        print(\"Meow!\")\n",
        "\n",
        "# Using overridden methods\n",
        "a = Animal()\n",
        "d = Dog()\n",
        "c = Cat()\n",
        "\n",
        "a.speak()  # Output: This animal makes a sound.\n",
        "d.speak()  # Output: Bark!\n",
        "c.speak()  # Output: Meow!\n"
      ],
      "metadata": {
        "id": "LGKT27PQWi1m"
      },
      "execution_count": null,
      "outputs": []
    },
    {
      "cell_type": "code",
      "source": [
        "# What is a property decorator in Python.\n",
        "The @property decorator in Python is used to define a method that behaves like an attribute. It allows you to access a method without parentheses, making your code cleaner and more intuitive.\n",
        "\n",
        "Why Use @property?\n",
        "Encapsulates internal data\n",
        "\n",
        "Allows getter functionality without exposing method calls\n",
        "\n",
        "Enables read-only access or controlled access to attributes\n",
        "class Circle:\n",
        "    def __init__(self, radius):\n",
        "        self._radius = radius\n",
        "\n",
        "    @property\n",
        "    def area(self):\n",
        "        return 3.14 * self._radius ** 2\n",
        "\n",
        "c = Circle(5)\n",
        "print(c.area)  # Output: 78.5\n"
      ],
      "metadata": {
        "id": "UnZsY7GgXbjn"
      },
      "execution_count": null,
      "outputs": []
    },
    {
      "cell_type": "code",
      "source": [
        "# Why is polymorphism important in OOP.\n",
        "Polymorphism means “many forms.” In OOP, it allows different classes to respond to the same method call in different ways. This means you can write code that works on objects of different types, as long as they share a common interface.\n",
        "Why Polymorphism Is Important\n",
        " Code Flexibility: You can write functions that work with multiple types of objects.\n",
        "\n",
        " Reusability: Reduces code duplication by allowing shared method names across classes.\n",
        "\n",
        " Extensibility: Makes it easier to add new classes without changing existing code.\n",
        "\n",
        " Clean Interfaces: Promotes cleaner and more intuitive code by using common method names.\n",
        "class Animal:\n",
        "    def speak(self):\n",
        "        print(\"This animal makes a sound.\")\n",
        "\n",
        "class Dog(Animal):\n",
        "    def speak(self):\n",
        "        print(\"Bark!\")\n",
        "\n",
        "class Cat(Animal):\n",
        "    def speak(self):\n",
        "        print(\"Meow!\")\n",
        "\n",
        "def make_animal_speak(animal):\n",
        "    animal.speak()\n",
        "\n",
        "make_animal_speak(Dog())  # Output: Bark!\n",
        "make_animal_speak(Cat())  # Output: Meow!\n"
      ],
      "metadata": {
        "id": "HYdqKZAsXoIl"
      },
      "execution_count": null,
      "outputs": []
    },
    {
      "cell_type": "code",
      "source": [
        "# What is an abstract class in Python.\n",
        "An abstract class is a class that cannot be instantiated directly. It serves as a blueprint for other classes. Abstract classes define methods that must be implemented by any subclass.\n",
        "\n",
        "In Python, abstract classes are created using the abc module (Abstract Base Classes).\n",
        "Why Use Abstract Classes?\n",
        "Enforce a common interface across multiple subclasses\n",
        "\n",
        "Promote code consistency and structure\n",
        "\n",
        "Useful when you want to define required methods without implementing them\n",
        "from abc import ABC, abstractmethod\n",
        "\n",
        "class Shape(ABC):  # Abstract class\n",
        "    @abstractmethod\n",
        "    def area(self):\n",
        "        pass\n",
        "\n",
        "class Circle(Shape):\n",
        "    def __init__(self, radius):\n",
        "        self.radius = radius\n",
        "\n",
        "    def area(self):\n",
        "        return 3.14 * self.radius ** 2\n",
        "\n",
        "class Rectangle(Shape):\n",
        "    def __init__(self, width, height):\n",
        "        self.width = width\n",
        "        self.height = height\n",
        "\n",
        "    def area(self):\n",
        "        return self.width * self.height\n",
        "\n",
        "# s = Shape()  # ❌ Error: Can't instantiate abstract class\n",
        "c = Circle(5)\n",
        "r = Rectangle(4, 6)\n",
        "\n",
        "print(c.area())  # Output: 78.5\n",
        "print(r.area())  # Output: 24\n"
      ],
      "metadata": {
        "id": "tAc9rYyUX-on"
      },
      "execution_count": null,
      "outputs": []
    },
    {
      "cell_type": "code",
      "source": [
        "# What are the advantages of OOP.\n",
        "\n",
        "Encapsulation: Bundling data and methods together, restricting direct access to some components.\n",
        "\n",
        "Inheritance: A way to create new classes from existing ones, promoting code reuse.\n",
        "\n",
        "Polymorphism: The ability to use a single interface for different data types or classes."
      ],
      "metadata": {
        "id": "oRySrWPAYgKK"
      },
      "execution_count": null,
      "outputs": []
    },
    {
      "cell_type": "code",
      "source": [
        "# What is the difference between a class variable and an instance variable.\n",
        "Use class variables for data that should be the same for all instances (like species).\n",
        "\n",
        "Use instance variables for data that varies between objects (like name).\n",
        "\n",
        "Definition\tShared across all instances of a class\tUnique to each object (instance)\n",
        "Declared in\tInside the class, but outside any method\tInside the constructor (__init__)\n",
        "Accessed via\tClassName.variable or object.variable\tobject.variable\n",
        "Use case\tFor properties common to all objects\tFor properties specific to each object\n",
        "class Dog:\n",
        "    species = \"Canine\"  # Class variable\n",
        "\n",
        "    def __init__(self, name):\n",
        "        self.name = name  # Instance variable\n",
        "\n",
        "dog1 = Dog(\"Tommy\")\n",
        "dog2 = Dog(\"Sheru\")\n",
        "\n",
        "print(dog1.name)     # Output: Tommy\n",
        "print(dog2.name)     # Output: Sheru\n",
        "print(dog1.species)  # Output: Canine\n",
        "print(dog2.species)  # Output: Canine\n"
      ],
      "metadata": {
        "id": "ktRXjZo7Y_JP"
      },
      "execution_count": null,
      "outputs": []
    },
    {
      "cell_type": "code",
      "source": [
        "# What is multiple inheritance in Python.\n",
        "Multiple inheritance means a class can inherit from more than one parent class. This allows the child class to access attributes and methods from all its parent classes.\n",
        "class Father:\n",
        "    def gardening(self):\n",
        "        print(\"I enjoy gardening.\")\n",
        "\n",
        "class Mother:\n",
        "    def cooking(self):\n",
        "        print(\"I love cooking.\")\n",
        "\n",
        "class Child(Father, Mother):  # Multiple inheritance\n",
        "    def sports(self):\n",
        "        print(\"I play football.\")\n",
        "\n",
        "c = Child()\n",
        "c.gardening()  # Inherited from Father\n",
        "c.cooking()    # Inherited from Mother\n",
        "c.sports()     # Defined in Child\n",
        "\n",
        "Advantages:\n",
        "Combines features from multiple classes\n",
        "\n",
        "Promotes code reuse\n",
        "\n",
        "Useful when a class needs to inherit behavior from different sources\n"
      ],
      "metadata": {
        "id": "vIFvuLnnZ4OL"
      },
      "execution_count": null,
      "outputs": []
    },
    {
      "cell_type": "code",
      "source": [
        "# Explain the purpose of ‘’__str__’ and ‘__repr__’ ‘ methods in Python.\n",
        "__str__ vs __repr__ in Python\n",
        "Both are dunder methods (short for “double underscore”) used to define how objects are represented as strings.\n",
        "Used to create a user-friendly string representation of an object.\n",
        "\n",
        "Called by print() and str() functions.\n",
        "\n",
        "Ideal for displaying readable output.\n",
        "class Person:\n",
        "    def __init__(self, name):\n",
        "        self.name = name\n",
        "\n",
        "    def __str__(self):\n",
        "        return f\"My name is {self.name}\"\n",
        "\n",
        "p = Person(\"Arvind\")\n",
        "print(p)  # Output: My name is Arvind\n",
        "\n",
        "Purpose of __repr__\n",
        "Used to create a developer-friendly string representation.\n",
        "\n",
        "Called by repr() or when inspecting objects in the console.\n",
        "\n",
        "Should return a string that could recreate the object if passed to eval().\n",
        "\n",
        "python\n",
        "class Person:\n",
        "    def __init__(self, name):\n",
        "        self.name = name\n",
        "\n",
        "    def __repr__(self):\n",
        "        return f\"Person('{self.name}')\"\n",
        "\n",
        "p = Person(\"Arvind\")\n",
        "print(repr(p))  # Output: Person"
      ],
      "metadata": {
        "id": "YgYDrJvNaWXI"
      },
      "execution_count": null,
      "outputs": []
    },
    {
      "cell_type": "code",
      "source": [
        "# What is the significance of the ‘super()’ function in Python.\n",
        "What Is super() in Python?\n",
        "The super() function is used to call a method from the parent class inside a child class. It’s especially useful in inheritance when you want to extend or customize behavior without rewriting everything.\n",
        "\n",
        "🔧 Purpose of super():\n",
        "Access parent class methods and constructors\n",
        "\n",
        "Avoid code duplication\n",
        "\n",
        "Support cooperative multiple inheritance (especially with super() chains)\n",
        "class Animal:\n",
        "    def __init__(self, name):\n",
        "        self.name = name\n",
        "\n",
        "    def speak(self):\n",
        "        print(f\"{self.name} makes a sound.\")\n",
        "\n",
        "class Dog(Animal):\n",
        "    def __init__(self, name, breed):\n",
        "        super().__init__(name)  # Call parent constructor\n",
        "        self.breed = breed\n",
        "\n",
        "    def speak(self):\n",
        "        super().speak()         # Call parent method\n",
        "        print(f\"{self.name} barks.\")\n",
        "\n",
        "d = Dog(\"Sheru\", \"Labrador\")\n",
        "d.speak()\n",
        "\n"
      ],
      "metadata": {
        "id": "2VlJdwfJbJPl"
      },
      "execution_count": null,
      "outputs": []
    },
    {
      "cell_type": "code",
      "source": [
        " #What is the significance of the __del__ method in Python.\n",
        " __del__ Method in Python\n",
        "The __del__ method is a destructor—a special method that is called automatically when an object is about to be destroyed. It allows you to define custom cleanup actions, like closing files or releasing resources.\n",
        "\n",
        "🔧 Purpose of __del__:\n",
        "Free up system resources\n",
        "\n",
        "Log or notify when an object is deleted\n",
        "\n",
        "Perform final cleanup before the object disappears"
      ],
      "metadata": {
        "id": "5ZEdedx8bZn-"
      },
      "execution_count": null,
      "outputs": []
    },
    {
      "cell_type": "code",
      "source": [
        "# What is the difference between @staticmethod and @classmethod in Python\n",
        "\n",
        "Feature\t@staticmethod\t@classmethod\n",
        "Decorator\t@staticmethod\t@classmethod\n",
        "First Argument\tNo self or cls\tFirst argument is cls (class itself)\n",
        "Access to Class\tCannot access class or instance attributes\tCan access and modify class-level data\n",
        "Use Case\tUtility functions related to the class\tFactory methods or class-level operations\n",
        "Binding\tNot bound to class or instance\tBound to the class\n",
        "Use @staticmethod when the method doesn’t need access to class or instance data.\n",
        "\n",
        "Use @classmethod when the method needs access to the class itself.\n"
      ],
      "metadata": {
        "id": "738DI38bcACr"
      },
      "execution_count": null,
      "outputs": []
    },
    {
      "cell_type": "code",
      "source": [
        "# How does polymorphism work in Python with inheritance\n",
        "Polymorphism means “many forms.” In Python, it allows different classes to respond to the same method call in different ways. This is especially powerful when combined with inheritance.\n",
        "When a child class overrides a method from its parent class, it provides its own version of that method. This is called method overriding, and it’s the most common form of polymorphism in Python.\n",
        "class Animal:\n",
        "    def speak(self):\n",
        "        print(\"This animal makes a sound.\")\n",
        "\n",
        "class Dog(Animal):\n",
        "    def speak(self):\n",
        "        print(\"Bark!\")\n",
        "\n",
        "class Cat(Animal):\n",
        "    def speak(self):\n",
        "        print(\"Meow!\")\n",
        "\n",
        "def make_animal_speak(animal):\n",
        "    animal.speak()\n",
        "\n",
        "make_animal_speak(Dog())  # Output: Bark!\n",
        "make_animal_speak(Cat())  # Output: Meow!\n",
        "\n",
        "benefits-\n",
        "Code Flexibility: Write functions that work with multiple types of objects\n",
        "\n",
        "Reusability: Shared method names across classes reduce duplication\n",
        "\n",
        "Extensibility: Add new classes without changing existing code\n",
        "\n",
        "Clean Interfaces: Promotes intuitive and readable code\n"
      ],
      "metadata": {
        "id": "iEkgLJTEc73R"
      },
      "execution_count": null,
      "outputs": []
    },
    {
      "cell_type": "code",
      "source": [
        "# What is method chaining in Python OOP\n",
        "Method chaining is a technique where multiple methods are called on the same object in a single line, one after another. Each method returns the object itself (self), allowing the next method to be called immediately.\n",
        "class MessageBuilder:\n",
        "    def __init__(self):\n",
        "        self.message = \"\"\n",
        "\n",
        "    def greet(self):\n",
        "        self.message += \"Hello, \"\n",
        "        return self\n",
        "\n",
        "    def name(self, name):\n",
        "        self.message += f\"{name}!\"\n",
        "        return self\n",
        "\n",
        "    def show(self):\n",
        "        print(self.message)\n",
        "\n",
        "# Method chaining\n",
        "MessageBuilder().greet().name(\"Arvind\").show()\n"
      ],
      "metadata": {
        "id": "VVH0yhFfdpmY"
      },
      "execution_count": null,
      "outputs": []
    },
    {
      "cell_type": "code",
      "source": [
        "# What is the purpose of the __call__ method in Python?\n",
        "\n",
        "The __call__ method is a special (dunder) method that allows an object to be called like a function. When you use parentheses after an object, Python automatically invokes its __call__() method.\n",
        " Purpose of __call__:\n",
        "Makes objects behave like functions\n",
        "\n",
        "Useful in function wrappers, decorators, and custom callable classes\n",
        "\n",
        "Enhances flexibility and readability in object-oriented design\n",
        "class Greeter:\n",
        "    def __init__(self, name):\n",
        "        self.name = name\n",
        "\n",
        "    def __call__(self):\n",
        "        print(f\"Hello, {self.name}!\")\n",
        "\n",
        "g = Greeter(\"Arvind\")\n",
        "g()  # This calls g.__call__()\n"
      ],
      "metadata": {
        "id": "QnnJ38xxd9RL"
      },
      "execution_count": null,
      "outputs": []
    },
    {
      "cell_type": "markdown",
      "source": [
        "practical question"
      ],
      "metadata": {
        "id": "48dKaUWahS7H"
      }
    },
    {
      "cell_type": "code",
      "source": [
        "#1. Create a parent class Animal with a method speak() that prints a generic message. Create a child class Dog\n",
        "that overrides the speak() method to print \"Bark!\".\n",
        "# Parent class\n",
        "class Animal:\n",
        "    def speak(self):\n",
        "        print(\"This animal makes a sound.\")\n",
        "\n",
        "# Child class\n",
        "class Dog(Animal):\n",
        "    def speak(self):\n",
        "        print(\"Bark!\")\n",
        "\n",
        "# Testing the classes\n",
        "a = Animal()\n",
        "a.speak()  # Output: This animal makes a sound.\n",
        "\n",
        "d = Dog()\n",
        "d.speak()  # Output: Bark!\n"
      ],
      "metadata": {
        "id": "gnkiprrshW3-"
      },
      "execution_count": null,
      "outputs": []
    },
    {
      "cell_type": "code",
      "source": [
        "#2. Write a program to create an abstract class Shape with a method area(). Derive classes Circle and Rectangle\n",
        "from it and implement the area() method in both.\n",
        "from abc import ABC, abstractmethod\n",
        "import math\n",
        "\n",
        "# Abstract class\n",
        "class Shape(ABC):\n",
        "    @abstractmethod\n",
        "    def area(self):\n",
        "        pass\n",
        "\n",
        "# Derived class: Circle\n",
        "class Circle(Shape):\n",
        "    def __init__(self, radius):\n",
        "        self.radius = radius\n",
        "\n",
        "    def area(self):\n",
        "        return math.pi * self.radius ** 2\n",
        "\n",
        "# Derived class: Rectangle\n",
        "class Rectangle(Shape):\n",
        "    def __init__(self, length, width):\n",
        "        self.length = length\n",
        "        self.width = width\n",
        "\n",
        "    def area(self):\n",
        "        return self.length * self.width\n",
        "\n",
        "# Testing the classes\n",
        "c = Circle(5)\n",
        "print(\"Area of Circle:\", c.area())  # Output: Area of Circle: 78.53981633974483\n",
        "\n",
        "r = Rectangle(4, 6)\n",
        "print(\"Area of Rectangle:\", r.area())  # Output: Area of Rectangle: 24\n"
      ],
      "metadata": {
        "id": "_NHF2TaEh7P0"
      },
      "execution_count": null,
      "outputs": []
    },
    {
      "cell_type": "code",
      "source": [
        "# 3. Implement a multi-level inheritance scenario where a class Vehicle has an attribute type. Derive a class Car\n",
        "and further derive a class ElectricCar that adds a battery attribute.\n",
        "# Base class\n",
        "class Vehicle:\n",
        "    def __init__(self, vehicle_type):\n",
        "        self.type = vehicle_type\n",
        "\n",
        "# First-level derived class\n",
        "class Car(Vehicle):\n",
        "    def __init__(self, vehicle_type, brand):\n",
        "        super().__init__(vehicle_type)\n",
        "        self.brand = brand\n",
        "\n",
        "# Second-level derived class\n",
        "class ElectricCar(Car):\n",
        "    def __init__(self, vehicle_type, brand, battery_capacity):\n",
        "        super().__init__(vehicle_type, brand)\n",
        "        self.battery = battery_capacity\n",
        "\n",
        "    def display_info(self):\n",
        "        print(f\"Type: {self.type}\")\n",
        "        print(f\"Brand: {self.brand}\")\n",
        "        print(f\"Battery Capacity: {self.battery} kWh\")\n",
        "\n",
        "# Testing the multi-level inheritance\n",
        "e_car = ElectricCar(\"Four Wheeler\", \"Tesla\", 75)\n",
        "e_car.display_info()\n",
        "#output:\n",
        "Type: Four Wheeler\n",
        "Brand: Tesla\n",
        "Battery Capacity: 75 kWh\n"
      ],
      "metadata": {
        "id": "i4q-2RJMiH4g"
      },
      "execution_count": null,
      "outputs": []
    },
    {
      "cell_type": "code",
      "source": [
        "# 4. Demonstrate polymorphism by creating a base class Bird with a method fly(). Create two derived classes\n",
        "Sparrow and Penguin that override the fly() method.\n",
        "# Base class\n",
        "class Bird:\n",
        "    def fly(self):\n",
        "        print(\"This bird can fly.\")\n",
        "\n",
        "# Derived class: Sparrow\n",
        "class Sparrow(Bird):\n",
        "    def fly(self):\n",
        "        print(\"Sparrow flies high in the sky.\")\n",
        "\n",
        "# Derived class: Penguin\n",
        "class Penguin(Bird):\n",
        "    def fly(self):\n",
        "        print(\"Penguins cannot fly, but they swim well.\")\n",
        "\n",
        "# Polymorphic behavior\n",
        "def bird_flight(bird):\n",
        "    bird.fly()\n",
        "\n",
        "# Testing polymorphism\n",
        "b1 = Sparrow()\n",
        "b2 = Penguin()\n",
        "\n",
        "bird_flight(b1)  # Output: Sparrow flies high in the sky.\n",
        "bird_flight(b2)  # Output: Penguins cannot fly, but they swim well.\n"
      ],
      "metadata": {
        "id": "8otnuZhRif3-"
      },
      "execution_count": null,
      "outputs": []
    },
    {
      "cell_type": "code",
      "source": [
        "#5. Write a program to demonstrate encapsulation by creating a class BankAccount with private attributes\n",
        "balance and methods to deposit, withdraw, and check balance.\n",
        "class BankAccount:\n",
        "    def __init__(self, initial_balance=0):\n",
        "        self.__balance = initial_balance  # Private attribute\n",
        "\n",
        "    def deposit(self, amount):\n",
        "        if amount > 0:\n",
        "            self.__balance += amount\n",
        "            print(f\"Deposited ₹{amount}\")\n",
        "        else:\n",
        "            print(\"Deposit amount must be positive.\")\n",
        "\n",
        "    def withdraw(self, amount):\n",
        "        if 0 < amount <= self.__balance:\n",
        "            self.__balance -= amount\n",
        "            print(f\"Withdrew ₹{amount}\")\n",
        "        else:\n",
        "            print(\"Insufficient balance or invalid amount.\")\n",
        "\n",
        "    def check_balance(self):\n",
        "        print(f\"Current balance: ₹{self.__balance}\")\n",
        "\n",
        "# Testing encapsulation\n",
        "account = BankAccount(1000)\n",
        "account.check_balance()     # Output: Current balance: ₹1000\n",
        "account.deposit(500)        # Output: Deposited ₹500\n",
        "account.withdraw(300)       # Output: Withdrew ₹300\n",
        "account.check_balance()     # Output: Current balance: ₹1200\n",
        "\n",
        "# Trying to access private attribute directly (not recommended)\n",
        "# print(account.__balance)  # ❌ AttributeError\n"
      ],
      "metadata": {
        "id": "Uxn9cRBoiqiF"
      },
      "execution_count": null,
      "outputs": []
    },
    {
      "cell_type": "code",
      "source": [
        "# 6. Demonstrate runtime polymorphism using a method play() in a base class Instrument. Derive classes Guitar\n",
        "and Piano that implement their own version of play().\n",
        "# Base class\n",
        "class Instrument:\n",
        "    def play(self):\n",
        "        print(\"Playing an instrument.\")\n",
        "\n",
        "# Derived class: Guitar\n",
        "class Guitar(Instrument):\n",
        "    def play(self):\n",
        "        print(\"Strumming the guitar.\")\n",
        "\n",
        "# Derived class: Piano\n",
        "class Piano(Instrument):\n",
        "    def play(self):\n",
        "        print(\"Playing the piano keys.\")\n",
        "\n",
        "# Polymorphic function\n",
        "def perform(instrument):\n",
        "    instrument.play()\n",
        "\n",
        "# Testing runtime polymorphism\n",
        "i1 = Guitar()\n",
        "i2 = Piano()\n",
        "\n",
        "perform(i1)  # Output: Strumming the guitar.\n",
        "perform(i2)  # Output: Playing the piano keys.\n"
      ],
      "metadata": {
        "id": "FrLzKC0Ciqew"
      },
      "execution_count": null,
      "outputs": []
    },
    {
      "cell_type": "code",
      "source": [
        "# 7. Create a class MathOperations with a class method add_numbers() to add two numbers and a static\n",
        "method subtract_numbers() to subtract two numbers.\n",
        "class MathOperations:\n",
        "    @classmethod\n",
        "    def add_numbers(cls, a, b):\n",
        "        return a + b\n",
        "\n",
        "    @staticmethod\n",
        "    def subtract_numbers(a, b):\n",
        "        return a - b\n",
        "\n",
        "# Testing the methods\n",
        "print(\"Addition:\", MathOperations.add_numbers(10, 5))     # Output: Addition: 15\n",
        "print(\"Subtraction:\", MathOperations.subtract_numbers(10, 5))  # Output: Subtraction: 5\n"
      ],
      "metadata": {
        "id": "88dFzJIaiqck"
      },
      "execution_count": null,
      "outputs": []
    },
    {
      "cell_type": "code",
      "source": [
        "# 8. Implement a class Person with a class method to count the total number of persons created.\n",
        "class Person:\n",
        "    count = 0  # Class variable to track number of instances\n",
        "\n",
        "    def __init__(self, name):\n",
        "        self.name = name\n",
        "        Person.count += 1\n",
        "\n",
        "    @classmethod\n",
        "    def total_persons(cls):\n",
        "        return cls.count\n",
        "\n",
        "# Creating instances\n",
        "p1 = Person(\"Arvind\")\n",
        "p2 = Person(\"Ravi\")\n",
        "p3 = Person(\"Meena\")\n",
        "\n",
        "# Checking total persons created\n",
        "print(\"Total persons created:\", Person.total_persons())  # Output: 3\n"
      ],
      "metadata": {
        "id": "uFENBZ0qiqM5"
      },
      "execution_count": null,
      "outputs": []
    },
    {
      "cell_type": "code",
      "source": [
        "# 9. Write a class Fraction with attributes numerator and denominator. Override the str method to display the\n",
        "fraction as \"numerator/denominator\".\n",
        "class Fraction:\n",
        "    def __init__(self, numerator, denominator):\n",
        "        self.numerator = numerator\n",
        "        self.denominator = denominator\n",
        "\n",
        "    def __str__(self):\n",
        "        return f\"{self.numerator}/{self.denominator}\"\n",
        "\n",
        "# Testing the class\n",
        "f1 = Fraction(3, 4)\n",
        "f2 = Fraction(7, 2)\n",
        "\n",
        "print(f1)  # Output: 3/4\n",
        "print(f2)  # Output: 7/2\n"
      ],
      "metadata": {
        "id": "HqfCIoxTiqJe"
      },
      "execution_count": null,
      "outputs": []
    },
    {
      "cell_type": "code",
      "source": [
        "#10. Demonstrate operator overloading by creating a class Vector and overriding the add method to add two\n",
        "vectors.\n",
        "class Vector:\n",
        "    def __init__(self, x, y):\n",
        "        self.x = x\n",
        "        self.y = y\n",
        "\n",
        "    def __add__(self, other):\n",
        "        return Vector(self.x + other.x, self.y + other.y)\n",
        "\n",
        "    def __str__(self):\n",
        "        return f\"({self.x}, {self.y})\"\n",
        "\n",
        "# Testing operator overloading\n",
        "v1 = Vector(2, 3)\n",
        "v2 = Vector(4, 5)\n",
        "v3 = v1 + v2\n",
        "\n",
        "print(\"Vector 1:\", v1)  # Output: (2, 3)\n",
        "print(\"Vector 2:\", v2)  # Output: (4, 5)\n",
        "print(\"Sum:\", v3)       # Output: (6, 8)\n"
      ],
      "metadata": {
        "id": "ALCv9ef1iqHF"
      },
      "execution_count": null,
      "outputs": []
    },
    {
      "cell_type": "code",
      "source": [
        "# 11. Create a class Person with attributes name and age. Add a method greet() that prints \"Hello, my name is\n",
        "{name} and I am {age} years old.\"\n",
        "class Person:\n",
        "    def __init__(self, name, age):\n",
        "        self.name = name\n",
        "        self.age = age\n",
        "\n",
        "    def greet(self):\n",
        "        print(f\"Hello, my name is {self.name} and I am {self.age} years old.\")\n",
        "\n",
        "# Testing the class\n",
        "p1 = Person(\"Arvind\", 30)\n",
        "p1.greet()  # Output: Hello, my name is Arvind and I am 30 years old.\n"
      ],
      "metadata": {
        "id": "7Jo0zsjnip5u"
      },
      "execution_count": null,
      "outputs": []
    },
    {
      "cell_type": "code",
      "source": [
        "# 12. Implement a class Student with attributes name and grades. Create a method average_grade() to compute\n",
        "the average of the grades.\n",
        "class Student:\n",
        "    def __init__(self, name, grades):\n",
        "        self.name = name\n",
        "        self.grades = grades  # List of grades\n",
        "\n",
        "    def average_grade(self):\n",
        "        if self.grades:\n",
        "            return sum(self.grades) / len(self.grades)\n",
        "        else:\n",
        "            return 0\n",
        "\n",
        "# Testing the class\n",
        "s1 = Student(\"Arvind\", [85, 90, 78, 92])\n",
        "print(f\"{s1.name}'s average grade:\", s1.average_grade())  # Output: Arvind's average grade: 86.25\n"
      ],
      "metadata": {
        "id": "9LD6PVAIipuU"
      },
      "execution_count": null,
      "outputs": []
    },
    {
      "cell_type": "code",
      "source": [
        "# 13. Create a class Rectangle with methods set_dimensions() to set the dimensions and area() to calculate the\n",
        "area.\n",
        "class Rectangle:\n",
        "    def __init__(self):\n",
        "        self.length = 0\n",
        "        self.width = 0\n",
        "\n",
        "    def set_dimensions(self, length, width):\n",
        "        self.length = length\n",
        "        self.width = width\n",
        "\n",
        "    def area(self):\n",
        "        return self.length * self.width\n",
        "\n",
        "# Testing the class\n",
        "r = Rectangle()\n",
        "r.set_dimensions(5, 3)\n",
        "print(\"Area of Rectangle:\", r.area())  # Output: Area of Rectangle: 15\n"
      ],
      "metadata": {
        "id": "UbUTZ2LeipiD"
      },
      "execution_count": null,
      "outputs": []
    },
    {
      "cell_type": "code",
      "source": [
        "# 14. Create a class Employee with a method calculate_salary() that computes the salary based on hours worked\n",
        "and hourly rate. Create a derived class Manager that adds a bonus to the salary.\n",
        "# Base class\n",
        "class Employee:\n",
        "    def __init__(self, name, hours_worked, hourly_rate):\n",
        "        self.name = name\n",
        "        self.hours_worked = hours_worked\n",
        "        self.hourly_rate = hourly_rate\n",
        "\n",
        "    def calculate_salary(self):\n",
        "        return self.hours_worked * self.hourly_rate\n",
        "\n",
        "# Derived class\n",
        "class Manager(Employee):\n",
        "    def __init__(self, name, hours_worked, hourly_rate, bonus):\n",
        "        super().__init__(name, hours_worked, hourly_rate)\n",
        "        self.bonus = bonus\n",
        "\n",
        "    def calculate_salary(self):\n",
        "        base_salary = super().calculate_salary()\n",
        "        return base_salary + self.bonus\n",
        "\n",
        "# Testing the classes\n",
        "e1 = Employee(\"Arvind\", 40, 200)\n",
        "m1 = Manager(\"Ravi\", 40, 200, 5000)\n",
        "\n",
        "print(f\"{e1.name}'s Salary:\", e1.calculate_salary())  # Output: 8000\n",
        "print(f\"{m1.name}'s Salary with Bonus:\", m1.calculate_salary())  # Output: 13000\n"
      ],
      "metadata": {
        "id": "oKEixlejkFuD"
      },
      "execution_count": null,
      "outputs": []
    },
    {
      "cell_type": "code",
      "source": [
        "#15. Create a class Product with attributes name, price, and quantity. Implement a method total_price() that\n",
        "calculates the total price of the product.\n",
        "class Product:\n",
        "    def __init__(self, name, price, quantity):\n",
        "        self.name = name\n",
        "        self.price = price\n",
        "        self.quantity = quantity\n",
        "\n",
        "    def total_price(self):\n",
        "        return self.price * self.quantity\n",
        "\n",
        "# Testing the class\n",
        "p1 = Product(\"Notebook\", 50, 10)\n",
        "p2 = Product(\"Pen\", 10, 25)\n",
        "\n",
        "print(f\"Total price of {p1.name}: ₹{p1.total_price()}\")  # Output: ₹500\n",
        "print(f\"Total price of {p2.name}: ₹{p2.total_price()}\")  # Output: ₹250\n"
      ],
      "metadata": {
        "id": "eRZaTwFMkFeE"
      },
      "execution_count": null,
      "outputs": []
    },
    {
      "cell_type": "code",
      "source": [
        "#16. Create a class Animal with an abstract method sound(). Create two derived classes Cow and Sheep that\n",
        "implement the sound() method.\n",
        "from abc import ABC, abstractmethod\n",
        "\n",
        "# Abstract base class\n",
        "class Animal(ABC):\n",
        "    @abstractmethod\n",
        "    def sound(self):\n",
        "        pass\n",
        "\n",
        "# Derived class: Cow\n",
        "class Cow(Animal):\n",
        "    def sound(self):\n",
        "        print(\"Cow says Moo!\")\n",
        "\n",
        "# Derived class: Sheep\n",
        "class Sheep(Animal):\n",
        "    def sound(self):\n",
        "        print(\"Sheep says Baa!\")\n",
        "\n",
        "# Testing the classes\n",
        "a1 = Cow()\n",
        "a2 = Sheep()\n",
        "\n",
        "a1.sound()  # Output: Cow says Moo!\n",
        "a2.sound()  # Output: Sheep says Baa!\n"
      ],
      "metadata": {
        "id": "g3KRJ-XQkFKF"
      },
      "execution_count": null,
      "outputs": []
    },
    {
      "cell_type": "code",
      "source": [
        "# 17. Create a class Book with attributes title, author, and year_published. Add a method get_book_info() that\n",
        "returns a formatted string with the book's details.\n",
        "class Book:\n",
        "    def __init__(self, title, author, year_published):\n",
        "        self.title = title\n",
        "        self.author = author\n",
        "        self.year_published = year_published\n",
        "\n",
        "    def get_book_info(self):\n",
        "        return f\"'{self.title}' by {self.author}, published in {self.year_published}\"\n",
        "\n",
        "# Testing the class\n",
        "b1 = Book(\"Wings of Fire\", \"A.P.J. Abdul Kalam\", 1999)\n",
        "b2 = Book(\"The Discovery of India\", \"Jawaharlal Nehru\", 1946)\n",
        "\n",
        "print(b1.get_book_info())  # Output: 'Wings of Fire' by A.P.J. Abdul Kalam, published in 1999\n",
        "print(b2.get_book_info())  # Output: 'The Discovery of India' by Jawaharlal Nehru, published in 1946\n"
      ],
      "metadata": {
        "id": "K8bDDlPbkFGw"
      },
      "execution_count": null,
      "outputs": []
    },
    {
      "cell_type": "code",
      "source": [
        "# 18. Create a class House with attributes address and price. Create a derived class Mansion that adds an\n",
        "attribute number_of_rooms.\n",
        "# Base class\n",
        "class House:\n",
        "    def __init__(self, address, price):\n",
        "        self.address = address\n",
        "        self.price = price\n",
        "\n",
        "# Derived class\n",
        "class Mansion(House):\n",
        "    def __init__(self, address, price, number_of_rooms):\n",
        "        super().__init__(address, price)\n",
        "        self.number_of_rooms = number_of_rooms\n",
        "\n",
        "    def display_info(self):\n",
        "        print(f\"Address: {self.address}\")\n",
        "        print(f\"Price: ₹{self.price}\")\n",
        "        print(f\"Number of Rooms: {self.number_of_rooms}\")\n",
        "\n",
        "# Testing the classes\n",
        "m1 = Mansion(\"123 Royal Street\", 50000000, 12)\n",
        "m1.display_info()\n"
      ],
      "metadata": {
        "id": "H4JNZsn-kFEV"
      },
      "execution_count": null,
      "outputs": []
    }
  ]
}